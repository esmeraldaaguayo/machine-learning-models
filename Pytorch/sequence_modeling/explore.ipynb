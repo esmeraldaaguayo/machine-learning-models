{
 "cells": [
  {
   "cell_type": "code",
   "id": "initial_id",
   "metadata": {
    "collapsed": true,
    "ExecuteTime": {
     "end_time": "2024-04-24T18:52:11.180146Z",
     "start_time": "2024-04-24T18:52:11.175639Z"
    }
   },
   "source": [
    "import torch\n",
    "\n",
    "from models.mlp import MLPGenerator, MLPRegression "
   ],
   "outputs": [],
   "execution_count": 2
  },
  {
   "metadata": {
    "ExecuteTime": {
     "end_time": "2024-04-24T18:54:42.248755Z",
     "start_time": "2024-04-24T18:54:42.215336Z"
    }
   },
   "cell_type": "code",
   "source": [
    "# Set seed for reproducibility\n",
    "torch.manual_seed(42)\n",
    "\n",
    "# create instance of model\n",
    "model_specific = MLPRegression(input_dims=528,hidden_dims1=128,hidden_dims2=32,hidden_dims3=32,output_dims=1)\n",
    "model_general = MLPGenerator(in_features=528,out_features=1,hidden_units=[128,32,32])"
   ],
   "id": "5109eee7734dc983",
   "outputs": [],
   "execution_count": 3
  },
  {
   "metadata": {
    "ExecuteTime": {
     "end_time": "2024-04-24T18:55:28.647417Z",
     "start_time": "2024-04-24T18:55:28.617246Z"
    }
   },
   "cell_type": "code",
   "source": "model_specific",
   "id": "154c392e9f72a2a7",
   "outputs": [
    {
     "data": {
      "text/plain": [
       "MLPRegression(\n",
       "  (fc_linear1): Linear(in_features=528, out_features=128, bias=True)\n",
       "  (fc_linear2): Linear(in_features=128, out_features=32, bias=True)\n",
       "  (fc_linear3): Linear(in_features=32, out_features=32, bias=True)\n",
       "  (fc_linear4): Linear(in_features=32, out_features=1, bias=True)\n",
       ")"
      ]
     },
     "execution_count": 4,
     "metadata": {},
     "output_type": "execute_result"
    }
   ],
   "execution_count": 4
  },
  {
   "metadata": {
    "ExecuteTime": {
     "end_time": "2024-04-24T18:55:41.850550Z",
     "start_time": "2024-04-24T18:55:41.843155Z"
    }
   },
   "cell_type": "code",
   "source": "model_general ",
   "id": "4f646a7629f21280",
   "outputs": [
    {
     "data": {
      "text/plain": [
       "MLPGenerator(\n",
       "  (model): ModuleList(\n",
       "    (0): Linear(in_features=528, out_features=128, bias=True)\n",
       "    (1): ReLU()\n",
       "    (2): Linear(in_features=128, out_features=32, bias=True)\n",
       "    (3): ReLU()\n",
       "    (4): Linear(in_features=32, out_features=32, bias=True)\n",
       "    (5): ReLU()\n",
       "    (6): Linear(in_features=32, out_features=1, bias=True)\n",
       "  )\n",
       ")"
      ]
     },
     "execution_count": 5,
     "metadata": {},
     "output_type": "execute_result"
    }
   ],
   "execution_count": 5
  },
  {
   "metadata": {},
   "cell_type": "code",
   "outputs": [],
   "execution_count": null,
   "source": "",
   "id": "8afbf905144d238"
  }
 ],
 "metadata": {
  "kernelspec": {
   "display_name": "Python 3",
   "language": "python",
   "name": "python3"
  },
  "language_info": {
   "codemirror_mode": {
    "name": "ipython",
    "version": 2
   },
   "file_extension": ".py",
   "mimetype": "text/x-python",
   "name": "python",
   "nbconvert_exporter": "python",
   "pygments_lexer": "ipython2",
   "version": "2.7.6"
  }
 },
 "nbformat": 4,
 "nbformat_minor": 5
}
